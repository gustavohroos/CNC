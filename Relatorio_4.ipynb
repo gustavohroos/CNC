{
  "nbformat": 4,
  "nbformat_minor": 0,
  "metadata": {
    "colab": {
      "provenance": [],
      "include_colab_link": true
    },
    "kernelspec": {
      "name": "python3",
      "display_name": "Python 3"
    },
    "language_info": {
      "name": "python"
    }
  },
  "cells": [
    {
      "cell_type": "markdown",
      "metadata": {
        "id": "view-in-github",
        "colab_type": "text"
      },
      "source": [
        "<a href=\"https://colab.research.google.com/github/gustavohroos/CNC/blob/main/Relatorio_4.ipynb\" target=\"_parent\"><img src=\"https://colab.research.google.com/assets/colab-badge.svg\" alt=\"Open In Colab\"/></a>"
      ]
    },
    {
      "cell_type": "markdown",
      "source": [
        "# Relatório 4 Cálculo Numérico Computacional\n",
        "\n",
        "---\n",
        "\n",
        "Nome: Gustavo Henrique Roos <br/>\n",
        "Matrícula: 20101184"
      ],
      "metadata": {
        "id": "MGBegsrbWExD"
      }
    },
    {
      "cell_type": "code",
      "source": [
        "import numpy as np\n",
        "import matplotlib.pyplot as plt\n",
        "import seaborn as sns\n",
        "from sklearn.metrics import r2_score\n",
        "\n",
        "sns.set()"
      ],
      "metadata": {
        "id": "SnP0PG0a1Jp5"
      },
      "execution_count": 1,
      "outputs": []
    },
    {
      "cell_type": "markdown",
      "source": [
        "# Integração"
      ],
      "metadata": {
        "id": "_4n39-lSGRxY"
      }
    },
    {
      "cell_type": "code",
      "source": [
        "def trapezoidal(f, a, b, n):\n",
        "    h = (b - a) / n\n",
        "    x = [a + i*h for i in range(n+1)]\n",
        "    fx = [f(x_i) for x_i in x]\n",
        "    return h/2 * (fx[0] + 2*sum(fx[1:n]) + fx[n])"
      ],
      "metadata": {
        "id": "fhWCak800hP8"
      },
      "execution_count": 2,
      "outputs": []
    },
    {
      "cell_type": "code",
      "source": [
        "def simpson_13(f, a, b, n):\n",
        "    if n % 2 != 0:\n",
        "        raise ValueError(\"O número de subintervalos deve ser par.\")\n",
        "    h = (b - a) / n\n",
        "    x = [a + i*h for i in range(n+1)]\n",
        "    fx = [f(x_i) for x_i in x]\n",
        "    return h/3 * (fx[0] + 4*sum(fx[1:n:2]) + 2*sum(fx[2:n:2]) + fx[n])"
      ],
      "metadata": {
        "id": "GUOgyGKsFPIT"
      },
      "execution_count": 3,
      "outputs": []
    },
    {
      "cell_type": "code",
      "source": [
        "def simpson_38(f, a, b, n):\n",
        "    if n % 3 != 0:\n",
        "        raise ValueError(\"O número de subintervalos deve ser múltiplo de 3.\")\n",
        "    h = (b - a) / n\n",
        "    x = [a + i*h for i in range(n+1)]\n",
        "    fx = [f(x_i) for x_i in x]\n",
        "    return 3*h/8 * (fx[0] + 3*sum(fx[1:n:3]) + 3*sum(fx[2:n:3]) + 2*sum(fx[3:n:3]) + fx[n])"
      ],
      "metadata": {
        "id": "MDpkDMRP5PlZ"
      },
      "execution_count": 4,
      "outputs": []
    },
    {
      "cell_type": "markdown",
      "source": [
        "# Diferenciação"
      ],
      "metadata": {
        "id": "QfR_UhQMxEv2"
      }
    },
    {
      "cell_type": "code",
      "source": [
        "def euler(f, x0, y0, h, n):\n",
        "    x = [x0 + i*h for i in range(n+1)]\n",
        "    y = [y0]\n",
        "    for i in range(n):\n",
        "        y.append(y[-1] + h*f(x[i], y[-1]))\n",
        "    return x, y"
      ],
      "metadata": {
        "id": "55yagqY_6gsd"
      },
      "execution_count": 5,
      "outputs": []
    },
    {
      "cell_type": "code",
      "source": [
        "def runge_kutta(f, x0, y0, h, n):\n",
        "    x = [x0 + i*h for i in range(n+1)]\n",
        "    y = [y0]\n",
        "    for i in range(n):\n",
        "        k1 = h*f(x[i], y[-1])\n",
        "        k2 = h*f(x[i] + h/2, y[-1] + k1/2)\n",
        "        k3 = h*f(x[i] + h/2, y[-1] + k2/2)\n",
        "        k4 = h*f(x[i] + h, y[-1] + k3)\n",
        "        y.append(y[-1] + 1/6*(k1 + 2*k2 + 2*k3 + k4))\n",
        "    return x, y"
      ],
      "metadata": {
        "id": "PW7b45i6XIQV"
      },
      "execution_count": 6,
      "outputs": []
    },
    {
      "cell_type": "markdown",
      "source": [
        "# Relatório"
      ],
      "metadata": {
        "id": "-1w8abYWGcCY"
      }
    },
    {
      "cell_type": "markdown",
      "source": [
        "## 1)"
      ],
      "metadata": {
        "id": "ISvpEMbuF3OU"
      }
    },
    {
      "cell_type": "code",
      "source": [
        "x_arr = np.array([0, 2.5, 5, 15, 20, 25, 30])\n",
        "Fx = np.array([0, 7, 9, 14, 10.5, 12, 5])\n",
        "thetax = np.array([0.5, 0.9, 1.4, 0.9, 1.3, 1.48, 1.5])\n",
        "\n",
        "def F(x):\n",
        "    return Fx[np.searchsorted(x_arr, x)]\n",
        "\n",
        "def theta(x):\n",
        "    return thetax[np.searchsorted(x_arr, x)]\n",
        "\n",
        "def func_1(x):\n",
        "    return F(x) * np.cos(theta(x))"
      ],
      "metadata": {
        "id": "lOiww-zdF7OU"
      },
      "execution_count": 7,
      "outputs": []
    },
    {
      "cell_type": "code",
      "source": [
        "fig, ax = plt.subplots(nrows=1, ncols=1, figsize=(7,4))\n",
        "\n",
        "\n",
        "ax.plot(x_arr, func_1(x_arr))\n",
        "ax.scatter(x_arr, func_1(x_arr))\n",
        "\n",
        "ax.axhline(y=0, color='#000', linewidth=1)\n",
        "ax.axvline(x=0, color='#000', linewidth=1)\n",
        "\n",
        "ax.axvline(x=5, color='r')\n",
        "ax.axvline(x=15, color='r')\n",
        "ax.axvline(x=30, color='r')\n",
        "\n",
        "ax.annotate('Grupo 1', (2.5, 7), ha='center', fontsize=10)\n",
        "ax.annotate('Grupo 2', (10, 7), ha='center', fontsize=10)\n",
        "ax.annotate('Grupo 3', (22.5, 7), ha='center', fontsize=10)\n",
        "\n",
        "\n",
        "ax.set_xlabel('x')\n",
        "_ = ax.set_ylabel('∫x0,xn F(x) * cos(θ(x)) * dx')\n"
      ],
      "metadata": {
        "colab": {
          "base_uri": "https://localhost:8080/",
          "height": 396
        },
        "id": "XjP5_NsKlr-d",
        "outputId": "2f91fc75-cf47-41bd-ff77-2a129d0471ce"
      },
      "execution_count": 8,
      "outputs": [
        {
          "output_type": "display_data",
          "data": {
            "text/plain": [
              "<Figure size 700x400 with 1 Axes>"
            ],
            "image/png": "[encoded data removed]"
          },
          "metadata": {}
        }
      ]
    },
    {
      "cell_type": "markdown",
      "source": [
        "### a)"
      ],
      "metadata": {
        "id": "bqzqLbTdHtNn"
      }
    },
    {
      "cell_type": "code",
      "source": [
        "w_simpson13 = simpson_13(func_1, x_arr[0], x_arr[2], 2)\n",
        "print(f'Trabalho realizado no grupo 1 usando\\no método 1/3 de Simpson: {w_simpson13}')"
      ],
      "metadata": {
        "colab": {
          "base_uri": "https://localhost:8080/"
        },
        "id": "2sWQ6E7VHs3P",
        "outputId": "2b060475-c6d7-46e1-ff60-295782cf6c28"
      },
      "execution_count": 9,
      "outputs": [
        {
          "output_type": "stream",
          "name": "stdout",
          "text": [
            "Trabalho realizado no grupo 1 usando\n",
            "o método 1/3 de Simpson: 15.778986164733977\n"
          ]
        }
      ]
    },
    {
      "cell_type": "markdown",
      "source": [
        "### b)"
      ],
      "metadata": {
        "id": "a_YTBc3PbhEC"
      }
    },
    {
      "cell_type": "code",
      "source": [
        "w_trapezio = trapezoidal(func_1, x_arr[2], x_arr[3], 1)\n",
        "print(f'Trabalho realizado no grupo 2 usando\\no método Trapézio Repetido: {w_trapezio}')"
      ],
      "metadata": {
        "colab": {
          "base_uri": "https://localhost:8080/"
        },
        "id": "wiTzsHAHblac",
        "outputId": "06a495fd-202c-4fa8-cd90-6e49c3b4a3cc"
      },
      "execution_count": 10,
      "outputs": [
        {
          "output_type": "stream",
          "name": "stdout",
          "text": [
            "Trabalho realizado no grupo 2 usando\n",
            "o método Trapézio Repetido: 51.16121920945736\n"
          ]
        }
      ]
    },
    {
      "cell_type": "markdown",
      "source": [
        "### c)"
      ],
      "metadata": {
        "id": "a5rXpHwAbijX"
      }
    },
    {
      "cell_type": "code",
      "source": [
        "w_simpson38 = simpson_38(func_1, x_arr[3], x_arr[6], 3)\n",
        "print(f'Trabalho realizado no grupo 3 usando\\no método 3/8 de Simpson: {w_simpson38}')"
      ],
      "metadata": {
        "colab": {
          "base_uri": "https://localhost:8080/"
        },
        "id": "otv2ISbVbl6T",
        "outputId": "b909bef8-34cb-49bd-e1e8-79129e3c4052"
      },
      "execution_count": 11,
      "outputs": [
        {
          "output_type": "stream",
          "name": "stdout",
          "text": [
            "Trabalho realizado no grupo 3 usando\n",
            "o método 3/8 de Simpson: 38.89990714972025\n"
          ]
        }
      ]
    },
    {
      "cell_type": "code",
      "source": [
        "total = np.sum([w_simpson13, w_trapezio, w_simpson38])\n",
        "print(f'Trabalho total realizado: {total}')"
      ],
      "metadata": {
        "colab": {
          "base_uri": "https://localhost:8080/"
        },
        "id": "OCCojENMhyMV",
        "outputId": "f71a67ee-affd-4d6c-e73b-23dc5fedb89b"
      },
      "execution_count": 12,
      "outputs": [
        {
          "output_type": "stream",
          "name": "stdout",
          "text": [
            "Trabalho total realizado: 105.84011252391159\n"
          ]
        }
      ]
    },
    {
      "cell_type": "markdown",
      "source": [
        "## 2)\n"
      ],
      "metadata": {
        "id": "V05vc4SRT2GU"
      }
    },
    {
      "cell_type": "markdown",
      "source": [
        "### a)\n"
      ],
      "metadata": {
        "id": "Y59XTLleT3uo"
      }
    },
    {
      "cell_type": "code",
      "source": [
        "def func_2(x, y):\n",
        "    return x ** 2 + y ** 2\n",
        "\n",
        "x0 = 0\n",
        "y0 = 0\n",
        "h = 0.1\n",
        "n = 10\n",
        "\n",
        "x_pred = 0.5\n",
        "\n",
        "x_euler, y_euler = euler(func_2, x0, y0, h, n)\n",
        "index_euler = np.searchsorted(x_euler, x_pred)\n",
        "\n",
        "x_rk, y_rk = runge_kutta(func_2, x0, y0, h, n)\n",
        "index_rk = np.searchsorted(x_rk, x_pred)\n",
        "\n",
        "\n",
        "y_pred_euler = y_euler[index_euler]\n",
        "y_pred_rk = y_rk[index_rk]\n",
        "\n",
        "print(\"Método de Euler:       y(0.5) = \", y_euler[index_euler])\n",
        "print(\"Método de Runge-Kutta: y(0.5) = \", y_rk[index_rk])"
      ],
      "metadata": {
        "colab": {
          "base_uri": "https://localhost:8080/"
        },
        "id": "lwF4YjblT5ak",
        "outputId": "f5c68402-4b5b-4a8e-d45d-4659f4a2776b"
      },
      "execution_count": 13,
      "outputs": [
        {
          "output_type": "stream",
          "name": "stdout",
          "text": [
            "Método de Euler:       y(0.5) =  0.030022207380957063\n",
            "Método de Runge-Kutta: y(0.5) =  0.041791288475232065\n"
          ]
        }
      ]
    },
    {
      "cell_type": "markdown",
      "source": [
        "### b)"
      ],
      "metadata": {
        "id": "LedXQDB3YTub"
      }
    },
    {
      "cell_type": "code",
      "source": [
        "x0 = 0\n",
        "y0 = 0\n",
        "n = 10\n",
        "\n",
        "x_pred = 0.2\n",
        "\n",
        "x_rk_01, y_rk_01 = runge_kutta(func_2, x0, y0, 0.1, n)\n",
        "index_rk_01 = np.searchsorted(x_rk_01, x_pred)\n",
        "\n",
        "x_rk_02, y_rk_02 = runge_kutta(func_2, x0, y0, 0.2, n)\n",
        "index_rk_02 = np.searchsorted(x_rk_02, x_pred)\n",
        "\n",
        "print(\"Método de Runge-Kutta -> h=0.1: y(0.2) = \", y_rk_01[index_rk_01])\n",
        "print(\"Método de Runge-Kutta -> h=0.2: y(0.2) = \", y_rk_02[index_rk_02])"
      ],
      "metadata": {
        "colab": {
          "base_uri": "https://localhost:8080/"
        },
        "id": "9UFet2e1YTah",
        "outputId": "2798a58d-f924-48f7-901c-01fcfce782d1"
      },
      "execution_count": 14,
      "outputs": [
        {
          "output_type": "stream",
          "name": "stdout",
          "text": [
            "Método de Runge-Kutta -> h=0.1: y(0.2) =  0.002666875369625629\n",
            "Método de Runge-Kutta -> h=0.2: y(0.2) =  0.0026668666933346665\n"
          ]
        }
      ]
    }
  ]
}